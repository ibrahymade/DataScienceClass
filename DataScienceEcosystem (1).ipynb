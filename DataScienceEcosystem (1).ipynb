{
 "cells": [
  {
   "cell_type": "markdown",
   "id": "ad36a3e2",
   "metadata": {},
   "source": [
    "# H1: Data Science Ecosystem"
   ]
  },
  {
   "cell_type": "markdown",
   "id": "40a61cbc",
   "metadata": {},
   "source": [
    "# H1: In this notebook, Data Science Tools and Ecosystem are summarized.\n",
    "# Objectives\n",
    "- List the data science tools and ecosystem\n",
    "- List popular languages for Data Science\n",
    "- Some of the popular languages that Data Scientists use are:"
   ]
  },
  {
   "cell_type": "markdown",
   "id": "7d9bc27e",
   "metadata": {},
   "source": [
    "# H1: Some of the popular languages that Data Scientists use are:\n",
    "1. Python\n",
    "2. R\n",
    "3. Julia"
   ]
  },
  {
   "cell_type": "markdown",
   "id": "5c72a216",
   "metadata": {},
   "source": [
    "# H1: Some of the commonly used libraries used by Data Scientists include:\n",
    "- Pandas\n",
    "- Numpy\n",
    "- Seaborn"
   ]
  },
  {
   "cell_type": "markdown",
   "id": "4aa5fcf7",
   "metadata": {},
   "source": [
    "# H1: Data Science Tools\n",
    "________________________________________\n",
    "* Jupyter Notebook\n",
    "* RStudio\n",
    "* VisualStudio"
   ]
  },
  {
   "cell_type": "markdown",
   "id": "b4b65161",
   "metadata": {},
   "source": [
    "# H1: Below are a few examples of evaluating arithmetic expressions in Python"
   ]
  },
  {
   "cell_type": "code",
   "execution_count": 3,
   "id": "787f717d",
   "metadata": {},
   "outputs": [
    {
     "data": {
      "text/plain": [
       "17"
      ]
     },
     "execution_count": 3,
     "metadata": {},
     "output_type": "execute_result"
    }
   ],
   "source": [
    "# his a simple arithmetic expression to mutiply then add integers\n",
    "(3*4)+5"
   ]
  },
  {
   "cell_type": "code",
   "execution_count": 5,
   "id": "e77e5813",
   "metadata": {},
   "outputs": [
    {
     "data": {
      "text/plain": [
       "3.3333333333333335"
      ]
     },
     "execution_count": 5,
     "metadata": {},
     "output_type": "execute_result"
    }
   ],
   "source": [
    "# This will convert 200 minutes to hours by diving by 60\n",
    "200/60"
   ]
  },
  {
   "cell_type": "markdown",
   "id": "5f5a0121",
   "metadata": {},
   "source": [
    "# Author\n",
    "Yusuf Ibrahim Adedoyin"
   ]
  }
 ],
 "metadata": {
  "kernelspec": {
   "display_name": "Python 3 (ipykernel)",
   "language": "python",
   "name": "python3"
  },
  "language_info": {
   "codemirror_mode": {
    "name": "ipython",
    "version": 3
   },
   "file_extension": ".py",
   "mimetype": "text/x-python",
   "name": "python",
   "nbconvert_exporter": "python",
   "pygments_lexer": "ipython3",
   "version": "3.10.9"
  }
 },
 "nbformat": 4,
 "nbformat_minor": 5
}
